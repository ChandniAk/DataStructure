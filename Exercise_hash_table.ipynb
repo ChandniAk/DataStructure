{
 "cells": [
  {
   "cell_type": "code",
   "execution_count": 6,
   "id": "48adf968",
   "metadata": {},
   "outputs": [
    {
     "name": "stdout",
     "output_type": "stream",
     "text": [
      "[['Jan 1', '27'], ['Jan 2', '31'], ['Jan 3', '23'], ['Jan 4', '34'], ['Jan 5', '37'], ['Jan 6', '38'], ['Jan 7', '29'], ['Jan 8', '30'], ['Jan 9', '35'], ['Jan 10', '30']]\n"
     ]
    }
   ],
   "source": [
    "weather = []\n",
    "with open(\"nyc_weather.csv\", 'r') as f:\n",
    "    for lines in f:\n",
    "        element = lines.strip().split(',')\n",
    "        day = element[0]\n",
    "        temp = element[1]\n",
    "        weather.append([day, temp])\n",
    "    weather = weather[1:]\n",
    "    print(weather)"
   ]
  },
  {
   "cell_type": "code",
   "execution_count": 136,
   "id": "c5f9c3eb",
   "metadata": {},
   "outputs": [],
   "source": [
    "class hash_table:\n",
    "    def __init__(self):\n",
    "        self.weather = []\n",
    "        self.max = 30\n",
    "        self.arr = [[] for i in range(self.max)]\n",
    "    def read_data(self):\n",
    "        with open(\"nyc_weather.csv\", 'r') as f:\n",
    "            for lines in f:\n",
    "                element = lines.strip().split(',')\n",
    "                day = element[0]\n",
    "                temp = element[1]\n",
    "                self.weather.append([day, temp])\n",
    "            self.weather = self.weather[1:]\n",
    "        #What was the average temperature in first week of Jan\n",
    "    def get_hash(self, key):\n",
    "        sum_ = 0\n",
    "        for char in key:\n",
    "            sum_ += ord(char)\n",
    "        return sum_ % self.max\n",
    "    def setitem(self):\n",
    "        for _, val in enumerate(self.weather):\n",
    "            h = self.get_hash(val[0])\n",
    "            found = False\n",
    "            for idx, element in enumerate(self.arr[h]):\n",
    "                print( \"uguhu\")\n",
    "                if len(element) ==2 and element[0] == val[0]:\n",
    "                    self.arr[h][idx] = (val[0],val[1])\n",
    "                    found = True\n",
    "                    break\n",
    "            if not found:\n",
    "                self.arr[h].append((val[0],val[1]))\n",
    "    def getitem(self, key):\n",
    "        h = self.get_hash(key)\n",
    "        for idx, element in enumerate(self.arr[h]):\n",
    "            if element[0] == key:\n",
    "                return self.arr[h][idx]\n",
    "        self.arr[h][key]\n",
    "    def average(self):\n",
    "        sum_ =0\n",
    "        count=0\n",
    "        for idx, ele in enumerate(self.weather):\n",
    "            i, k = self.getitem(ele[0])\n",
    "            if count <7:\n",
    "                sum_ += int(k)\n",
    "                count +=1\n",
    "        return sum_ / 7\n",
    "   # What was the maximum temperature in first 10 days of Jan\n",
    "    def max_temp(self):\n",
    "        MAX = int(self.weather[0][1])\n",
    "        for idx, ele in enumerate(self.weather):\n",
    "            i, k = self.getitem(ele[0])\n",
    "            if int(k) > MAX:\n",
    "                MAX = int(k)\n",
    "        return MAX\n",
    "            \n",
    "        "
   ]
  },
  {
   "cell_type": "code",
   "execution_count": 137,
   "id": "b3c4e10e",
   "metadata": {},
   "outputs": [
    {
     "data": {
      "text/plain": [
       "38"
      ]
     },
     "execution_count": 137,
     "metadata": {},
     "output_type": "execute_result"
    }
   ],
   "source": [
    "t = hash_table()\n",
    "t.read_data()\n",
    "t.setitem()\n",
    "t.average()\n",
    "t.max_temp()\n"
   ]
  },
  {
   "cell_type": "markdown",
   "id": "d7f20dd0",
   "metadata": {},
   "source": [
    "What was the temperature on Jan 9?\n",
    "\n",
    "What was the temperature on Jan 4?"
   ]
  },
  {
   "cell_type": "code",
   "execution_count": 138,
   "id": "7f245da8",
   "metadata": {},
   "outputs": [
    {
     "data": {
      "text/plain": [
       "('Jan 9', '35')"
      ]
     },
     "execution_count": 138,
     "metadata": {},
     "output_type": "execute_result"
    }
   ],
   "source": [
    "t.getitem(\"Jan 9\")"
   ]
  },
  {
   "cell_type": "code",
   "execution_count": 139,
   "id": "d7ed79f8",
   "metadata": {},
   "outputs": [
    {
     "data": {
      "text/plain": [
       "('Jan 4', '34')"
      ]
     },
     "execution_count": 139,
     "metadata": {},
     "output_type": "execute_result"
    }
   ],
   "source": [
    "t.getitem(\"Jan 4\")"
   ]
  },
  {
   "cell_type": "markdown",
   "id": "0a38e0e7",
   "metadata": {},
   "source": [
    "poem.txt Contains famous poem \"Road not taken\" by poet Robert Frost. You have to read this file in python and print every word and its count as show below. Think about the best data structure that you can use to solve this problem and figure out why you selected that specific data structure."
   ]
  },
  {
   "cell_type": "code",
   "execution_count": 281,
   "id": "05425fa7",
   "metadata": {},
   "outputs": [
    {
     "name": "stdout",
     "output_type": "stream",
     "text": [
      "{'Two': 2, 'roads': 1, 'diverged': 1, 'in': 2, 'a': 1, 'yellow': 1, 'wood': 1, 'And': 6, 'sorry': 1, 'I': 5, 'could': 1, 'not': 1, 'travel': 1, 'both': 1, 'To': 1, 'where': 1, 'it': 2, 'bent': 1, 'Then': 1, 'took': 1, 'the': 2, 'other': 1, 'as': 3, 'just': 1, 'Because': 1, 'Though': 1, 'Had': 1, 'worn': 1, 'them': 1, 'really': 1, 'about': 1, 'In': 1, 'leaves': 1, 'no': 1, 'step': 1, 'had': 1, 'trodden': 1, 'black.': 1, 'Oh': 1, 'Yet': 1, 'knowing': 1, 'how': 1, 'way': 2, 'leads': 1, 'on': 1, 'to': 1, 'Somewhere': 1, 'ages': 2, 'and': 1}\n"
     ]
    }
   ],
   "source": [
    "e ={}\n",
    "with open(\"poem.txt\", 'r') as f:\n",
    "    for lines in f:\n",
    "        if not lines.isspace():\n",
    "            ele = lines.strip(\"\\n\").replace(\",\",\"\").split(\" \")\n",
    "            for i in ele:\n",
    "                if i in e:\n",
    "                    k = e.get(i)\n",
    "                    k +=1\n",
    "                    e.update({i:k})\n",
    "                    break\n",
    "                e[i] =1\n",
    "print(e)\n",
    "            \n",
    "            "
   ]
  },
  {
   "cell_type": "markdown",
   "id": "53d32e84",
   "metadata": {},
   "source": [
    "# Q4:Implement hash table where collisions are handled using linear probing. We learnt about linear probing in the video tutorial. Take the hash table implementation that uses chaining and modify methods to use linear probing. Keep MAX size of arr in hashtable as 10."
   ]
  },
  {
   "cell_type": "code",
   "execution_count": 303,
   "id": "f76cd123",
   "metadata": {},
   "outputs": [],
   "source": [
    "class hash_table:\n",
    "    def __init__(self):\n",
    "        self.max = 10\n",
    "        self.arr = [None for i in range(self.max)]\n",
    "        for i in range(self.max):\n",
    "            if self.arr[i] != None:\n",
    "                self.arr[i+1] = None\n",
    "            else:\n",
    "                self.arr[i] = None\n",
    "                \n",
    "        #self.arr = [None for i in range(self.max)]\n",
    "    def get_hash(self, key):\n",
    "        sum_ = 0\n",
    "        for char in key:\n",
    "            sum_ += ord(char)\n",
    "        return sum_ % self.max\n",
    "    def __setitem__(self, key, val):\n",
    "        h = self.get_hash(key)\n",
    "        found = False\n",
    "        for  idx , element in enumerate(self.arr[h]):\n",
    "            if len(element) == 2 and element[0] == key:\n",
    "                self.arr[h][idx] = (key, val)\n",
    "                found = True\n",
    "                break\n",
    "        if not found:\n",
    "            self.arr[h].append((key, val))\n",
    "    def __getitem__(self, key):\n",
    "        h = self.get_hash(key)\n",
    "        for idx, element in enumerate(self.arr[h]):\n",
    "            if element[0] == key:\n",
    "                return self.arr[h][idx]\n",
    "        self.arr[h][key]\n",
    "        \n",
    "    def __delitem__(self, key):\n",
    "        h = self.get_hash(key)\n",
    "        for idx, element in enumerate(self.arr[h]):\n",
    "            if element[0] == key:\n",
    "                del self.arr[h][idx]\n",
    "                break\n",
    "            del self.arr[h][idx]"
   ]
  },
  {
   "cell_type": "code",
   "execution_count": 306,
   "id": "bcc7912c",
   "metadata": {},
   "outputs": [
    {
     "ename": "TypeError",
     "evalue": "'NoneType' object is not iterable",
     "output_type": "error",
     "traceback": [
      "\u001b[0;31m---------------------------------------------------------------------------\u001b[0m",
      "\u001b[0;31mTypeError\u001b[0m                                 Traceback (most recent call last)",
      "\u001b[0;32m/var/folders/sm/626xfv952tx0dx7sk88qtpjw0000gn/T/ipykernel_73621/468429442.py\u001b[0m in \u001b[0;36m<module>\u001b[0;34m\u001b[0m\n\u001b[1;32m      1\u001b[0m \u001b[0mt\u001b[0m \u001b[0;34m=\u001b[0m \u001b[0mhash_table\u001b[0m\u001b[0;34m(\u001b[0m\u001b[0;34m)\u001b[0m\u001b[0;34m\u001b[0m\u001b[0;34m\u001b[0m\u001b[0m\n\u001b[1;32m      2\u001b[0m \u001b[0mt\u001b[0m\u001b[0;34m.\u001b[0m\u001b[0marr\u001b[0m\u001b[0;34m\u001b[0m\u001b[0;34m\u001b[0m\u001b[0m\n\u001b[0;32m----> 3\u001b[0;31m \u001b[0mt\u001b[0m\u001b[0;34m[\u001b[0m\u001b[0;34m\"March 13\"\u001b[0m\u001b[0;34m]\u001b[0m\u001b[0;34m\u001b[0m\u001b[0;34m\u001b[0m\u001b[0m\n\u001b[0m",
      "\u001b[0;32m/var/folders/sm/626xfv952tx0dx7sk88qtpjw0000gn/T/ipykernel_73621/3609798606.py\u001b[0m in \u001b[0;36m__getitem__\u001b[0;34m(self, key)\u001b[0m\n\u001b[1;32m     27\u001b[0m     \u001b[0;32mdef\u001b[0m \u001b[0m__getitem__\u001b[0m\u001b[0;34m(\u001b[0m\u001b[0mself\u001b[0m\u001b[0;34m,\u001b[0m \u001b[0mkey\u001b[0m\u001b[0;34m)\u001b[0m\u001b[0;34m:\u001b[0m\u001b[0;34m\u001b[0m\u001b[0;34m\u001b[0m\u001b[0m\n\u001b[1;32m     28\u001b[0m         \u001b[0mh\u001b[0m \u001b[0;34m=\u001b[0m \u001b[0mself\u001b[0m\u001b[0;34m.\u001b[0m\u001b[0mget_hash\u001b[0m\u001b[0;34m(\u001b[0m\u001b[0mkey\u001b[0m\u001b[0;34m)\u001b[0m\u001b[0;34m\u001b[0m\u001b[0;34m\u001b[0m\u001b[0m\n\u001b[0;32m---> 29\u001b[0;31m         \u001b[0;32mfor\u001b[0m \u001b[0midx\u001b[0m\u001b[0;34m,\u001b[0m \u001b[0melement\u001b[0m \u001b[0;32min\u001b[0m \u001b[0menumerate\u001b[0m\u001b[0;34m(\u001b[0m\u001b[0mself\u001b[0m\u001b[0;34m.\u001b[0m\u001b[0marr\u001b[0m\u001b[0;34m[\u001b[0m\u001b[0mh\u001b[0m\u001b[0;34m]\u001b[0m\u001b[0;34m)\u001b[0m\u001b[0;34m:\u001b[0m\u001b[0;34m\u001b[0m\u001b[0;34m\u001b[0m\u001b[0m\n\u001b[0m\u001b[1;32m     30\u001b[0m             \u001b[0;32mif\u001b[0m \u001b[0melement\u001b[0m\u001b[0;34m[\u001b[0m\u001b[0;36m0\u001b[0m\u001b[0;34m]\u001b[0m \u001b[0;34m==\u001b[0m \u001b[0mkey\u001b[0m\u001b[0;34m:\u001b[0m\u001b[0;34m\u001b[0m\u001b[0;34m\u001b[0m\u001b[0m\n\u001b[1;32m     31\u001b[0m                 \u001b[0;32mreturn\u001b[0m \u001b[0mself\u001b[0m\u001b[0;34m.\u001b[0m\u001b[0marr\u001b[0m\u001b[0;34m[\u001b[0m\u001b[0mh\u001b[0m\u001b[0;34m]\u001b[0m\u001b[0;34m[\u001b[0m\u001b[0midx\u001b[0m\u001b[0;34m]\u001b[0m\u001b[0;34m\u001b[0m\u001b[0;34m\u001b[0m\u001b[0m\n",
      "\u001b[0;31mTypeError\u001b[0m: 'NoneType' object is not iterable"
     ]
    }
   ],
   "source": [
    "t = hash_table()\n",
    "t.arr\n",
    "t[\"March 13\"]"
   ]
  },
  {
   "cell_type": "code",
   "execution_count": 307,
   "id": "200cc438",
   "metadata": {},
   "outputs": [
    {
     "name": "stdout",
     "output_type": "stream",
     "text": [
      "[None, None, None, None, None, None, None, None, None, None]\n"
     ]
    }
   ],
   "source": [
    "max_ = 10\n",
    "arr = [None for i in range(max_)]\n",
    "print(arr)"
   ]
  },
  {
   "cell_type": "code",
   "execution_count": 299,
   "id": "0ddc52f9",
   "metadata": {},
   "outputs": [],
   "source": [
    "ax = 10\n",
    "for i in range(ax):\n",
    "    if arr[i] != None:\n",
    "        arr[i+1] = \n",
    "    else:\n",
    "        arr[i] = None"
   ]
  },
  {
   "cell_type": "code",
   "execution_count": 308,
   "id": "a5cf6741",
   "metadata": {},
   "outputs": [
    {
     "data": {
      "text/plain": [
       "[None, None, None, None, None, None, None, None, None, None]"
      ]
     },
     "execution_count": 308,
     "metadata": {},
     "output_type": "execute_result"
    }
   ],
   "source": [
    "arr"
   ]
  },
  {
   "cell_type": "code",
   "execution_count": 316,
   "id": "e276a8b6",
   "metadata": {},
   "outputs": [],
   "source": [
    "def get_prob_range(index):\n",
    "    print(range(index))\n",
    "    return [*range(index, len(arr))] + [*range(0,index)]\n",
    "    "
   ]
  },
  {
   "cell_type": "code",
   "execution_count": 317,
   "id": "1f2d9ed1",
   "metadata": {},
   "outputs": [
    {
     "name": "stdout",
     "output_type": "stream",
     "text": [
      "range(0, 2)\n"
     ]
    },
    {
     "data": {
      "text/plain": [
       "[2, 3, 4, 5, 6, 7, 8, 9, 0, 1]"
      ]
     },
     "execution_count": 317,
     "metadata": {},
     "output_type": "execute_result"
    }
   ],
   "source": [
    "get_prob_range(2)"
   ]
  },
  {
   "cell_type": "code",
   "execution_count": null,
   "id": "b980b5c9",
   "metadata": {},
   "outputs": [],
   "source": [
    " def find_slot(self, key, index):\n",
    "        prob_range = self.get_prob_range(index)\n",
    "        for prob_index in prob_range:\n",
    "            if self.arr[prob_index] is None:\n",
    "                return prob_index\n",
    "            if self.arr[prob_index][0] == key:\n",
    "                return prob_index\n",
    "        raise Exception(\"Hashmap full\")"
   ]
  }
 ],
 "metadata": {
  "kernelspec": {
   "display_name": "Python 3 (ipykernel)",
   "language": "python",
   "name": "python3"
  },
  "language_info": {
   "codemirror_mode": {
    "name": "ipython",
    "version": 3
   },
   "file_extension": ".py",
   "mimetype": "text/x-python",
   "name": "python",
   "nbconvert_exporter": "python",
   "pygments_lexer": "ipython3",
   "version": "3.9.13"
  }
 },
 "nbformat": 4,
 "nbformat_minor": 5
}

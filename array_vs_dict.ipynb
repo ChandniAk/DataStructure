{
 "cells": [
  {
   "cell_type": "code",
   "execution_count": 40,
   "id": "87fa018e",
   "metadata": {},
   "outputs": [],
   "source": [
    "stock_price = []\n",
    "with open(\"abc.csv\", 'r') as f:\n",
    "    for lines in f:\n",
    "        element = lines.strip().split(\",\")\n",
    "        day = element[0]\n",
    "        price = element[1]\n",
    "        stock_price.append([day,price])"
   ]
  },
  {
   "cell_type": "code",
   "execution_count": 41,
   "id": "c31d0d69",
   "metadata": {},
   "outputs": [
    {
     "data": {
      "text/plain": [
       "[['Date', 'Client'],\n",
       " ['1/1/2014', '95'],\n",
       " ['1/2/2014', '128'],\n",
       " ['1/6/2014', '129'],\n",
       " ['1/15/2014', '96'],\n",
       " ['1/28/2014', '94'],\n",
       " ['2/11/2014', '73'],\n",
       " ['2/18/2014', '129'],\n",
       " ['2/18/2014', '129'],\n",
       " ['2/21/2014', '112'],\n",
       " ['3/26/2014', '96'],\n",
       " ['4/3/2014', '83'],\n",
       " ['4/4/2014', '76'],\n",
       " ['4/22/2014', '78'],\n",
       " ['5/20/2014', '107'],\n",
       " ['5/29/2014', '105'],\n",
       " ['7/18/2014', '83'],\n",
       " ['7/23/2014', '76'],\n",
       " ['8/13/2014', '112'],\n",
       " ['10/15/2014', '118'],\n",
       " ['10/24/2014', '102'],\n",
       " ['11/18/2014', '95']]"
      ]
     },
     "execution_count": 41,
     "metadata": {},
     "output_type": "execute_result"
    }
   ],
   "source": [
    "stock_price"
   ]
  },
  {
   "cell_type": "code",
   "execution_count": 45,
   "id": "d1d5fa75",
   "metadata": {},
   "outputs": [],
   "source": [
    "stock_price = {}\n",
    "with open(\"abc.csv\", 'r') as f:\n",
    "    for lines in f:\n",
    "        element = lines.strip().split(',')\n",
    "        day = element[0]\n",
    "        price = element[1]\n",
    "        stock_price[day] = price"
   ]
  },
  {
   "cell_type": "code",
   "execution_count": 46,
   "id": "fb203cdb",
   "metadata": {},
   "outputs": [
    {
     "data": {
      "text/plain": [
       "{'Date': 'Client',\n",
       " '1/1/2014': '95',\n",
       " '1/2/2014': '128',\n",
       " '1/6/2014': '129',\n",
       " '1/15/2014': '96',\n",
       " '1/28/2014': '94',\n",
       " '2/11/2014': '73',\n",
       " '2/18/2014': '129',\n",
       " '2/21/2014': '112',\n",
       " '3/26/2014': '96',\n",
       " '4/3/2014': '83',\n",
       " '4/4/2014': '76',\n",
       " '4/22/2014': '78',\n",
       " '5/20/2014': '107',\n",
       " '5/29/2014': '105',\n",
       " '7/18/2014': '83',\n",
       " '7/23/2014': '76',\n",
       " '8/13/2014': '112',\n",
       " '10/15/2014': '118',\n",
       " '10/24/2014': '102',\n",
       " '11/18/2014': '95'}"
      ]
     },
     "execution_count": 46,
     "metadata": {},
     "output_type": "execute_result"
    }
   ],
   "source": [
    "stock_price"
   ]
  },
  {
   "cell_type": "code",
   "execution_count": null,
   "id": "ac3c35a9",
   "metadata": {},
   "outputs": [],
   "source": []
  },
  {
   "cell_type": "code",
   "execution_count": null,
   "id": "d672ce8b",
   "metadata": {},
   "outputs": [],
   "source": []
  }
 ],
 "metadata": {
  "kernelspec": {
   "display_name": "Python 3 (ipykernel)",
   "language": "python",
   "name": "python3"
  },
  "language_info": {
   "codemirror_mode": {
    "name": "ipython",
    "version": 3
   },
   "file_extension": ".py",
   "mimetype": "text/x-python",
   "name": "python",
   "nbconvert_exporter": "python",
   "pygments_lexer": "ipython3",
   "version": "3.9.13"
  }
 },
 "nbformat": 4,
 "nbformat_minor": 5
}

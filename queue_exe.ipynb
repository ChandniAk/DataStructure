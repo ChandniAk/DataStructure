{
 "cells": [
  {
   "cell_type": "markdown",
   "id": "b5a5dbcf",
   "metadata": {},
   "source": [
    "For all exercises use Queue class implemented in main tutorial.\n",
    "\n",
    "Design a food ordering system where your python program will run two threads,\n",
    "\n",
    "Place Order: This thread will be placing an order and inserting that into a queue. This thread places new order every 0.5 second. (hint: use time.sleep(0.5) function)\n",
    "Serve Order: This thread will server the order. All you need to do is pop the order out of the queue and print it. This thread serves an order every 2 seconds. Also start this thread 1 second after place order thread is started.\n",
    "Use this video to get yourself familiar with multithreading in python\n",
    "\n",
    "Pass following list as an argument to place order thread,\n",
    "\n",
    "orders = ['pizza','samosa','pasta','biryani','burger']\n",
    "This problem is a producer,consumer problem where place_order thread is producing orders whereas server_order thread is consuming the food orders. Use Queue class implemented in a video tutorial."
   ]
  },
  {
   "cell_type": "code",
   "execution_count": 44,
   "id": "d6b9df0d",
   "metadata": {},
   "outputs": [],
   "source": [
    "from collections import deque\n",
    "from threading import Thread\n",
    "import time\n",
    "class queue():\n",
    "    def __init__(self):\n",
    "        self.container = deque()\n",
    "    def insert(self,val):\n",
    "        return self.container.appendleft(val)\n",
    "    def pop(self):\n",
    "        return self.container.pop()\n",
    "    def size(self):\n",
    "        return len(self.container)\n",
    "    def peek(self):\n",
    "        return self.container[-1]\n",
    "    def isempty(self):\n",
    "        return len(self.container) == 0\n",
    "    def place_order(self,val):\n",
    "        time.sleep(0.5)\n",
    "        return self.insert(val)\n",
    "    def serve_order(self):\n",
    "        time.sleep(2)\n",
    "        return print(\"here it goes\",self.pop())\n",
    "    def threading(self,val):\n",
    "        t = time.time()\n",
    "        print(\"placing the order\", val)\n",
    "        t1 = Thread(target = self.place_order,args = (val,))\n",
    "        t1.start()\n",
    "        time.sleep(1)\n",
    "        print(\"Now serving the order\")\n",
    "        t2 = Thread(target = self.serve_order )\n",
    "        t2.start()\n",
    "        t1.join()\n",
    "        t2.join()\n",
    "        print(\"Done\", time.time()-t)\n",
    "        "
   ]
  },
  {
   "cell_type": "code",
   "execution_count": 45,
   "id": "60053d30",
   "metadata": {},
   "outputs": [
    {
     "name": "stdout",
     "output_type": "stream",
     "text": [
      "placing the order pizza\n",
      "Now serving the order\n",
      "here it goes pizza\n",
      "Done 3.013547897338867\n",
      "placing the order samosa\n",
      "Now serving the order\n",
      "here it goes samosa\n",
      "Done 3.00994610786438\n",
      "placing the order pasta\n",
      "Now serving the order\n",
      "here it goes pasta\n",
      "Done 3.008915901184082\n",
      "placing the order biryani\n",
      "Now serving the order\n",
      "here it goes biryani\n",
      "Done 3.0075080394744873\n",
      "placing the order burger\n",
      "Now serving the order\n",
      "here it goes burger\n",
      "Done 3.008913040161133\n"
     ]
    },
    {
     "data": {
      "text/plain": [
       "deque([])"
      ]
     },
     "execution_count": 45,
     "metadata": {},
     "output_type": "execute_result"
    }
   ],
   "source": [
    "q = queue()\n",
    "d =  ['pizza','samosa','pasta','biryani','burger'] \n",
    "for i in d:\n",
    "    q.threading(i)\n",
    "q.container"
   ]
  },
  {
   "cell_type": "markdown",
   "id": "9de7a627",
   "metadata": {},
   "source": [
    "Write a program to print binary numbers from 1 to 10 using Queue. Use Queue class implemented in main tutorial. Binary sequence should look like,\n",
    "    1\n",
    "    10\n",
    "    11\n",
    "    100\n",
    "    101\n",
    "    110\n",
    "    111\n",
    "    1000\n",
    "    1001\n",
    "    1010\n",
    "Hint: Notice a pattern above. After 1 second and third number is 1+0 and 1+1. 4th and 5th number are second number (i.e. 10) + 0 and second number (i.e. 10) + 1.\n",
    "\n",
    "You also need to add front() function in queue class that can return the front element in the queue."
   ]
  },
  {
   "cell_type": "code",
   "execution_count": 119,
   "id": "865641f7",
   "metadata": {},
   "outputs": [],
   "source": [
    "class queue():\n",
    "    def __init__(self):\n",
    "        self.container = deque()\n",
    "    def enqueue(self,val):\n",
    "        return self.container.appendleft(val)\n",
    "    def dequeue(self):\n",
    "        return self.container.pop()\n",
    "    def size(self):\n",
    "        return len(self.container)\n",
    "    def peek(self):\n",
    "        return self.container[-1]\n",
    "    def isempty(self):\n",
    "        return len(self.container) == 0\n",
    "    def front(self):\n",
    "        return self.container[-1]\n",
    "    def produce(self,n):\n",
    "        nu = queue()\n",
    "        nu.enqueue(\"1\")\n",
    "        for i in range(n):\n",
    "            f = nu.front()\n",
    "            print(\" \", f)\n",
    "            nu.enqueue(f+\"0\")\n",
    "            nu.enqueue(f+\"1\")\n",
    "            nu.dequeue()\n"
   ]
  },
  {
   "cell_type": "code",
   "execution_count": 120,
   "id": "4fdc1d93",
   "metadata": {},
   "outputs": [
    {
     "name": "stdout",
     "output_type": "stream",
     "text": [
      "  1\n",
      "  10\n",
      "  11\n",
      "  100\n",
      "  101\n",
      "  110\n",
      "  111\n",
      "  1000\n",
      "  1001\n",
      "  1010\n"
     ]
    }
   ],
   "source": [
    "q = queue()\n",
    "q.produce(10)\n"
   ]
  },
  {
   "cell_type": "code",
   "execution_count": 121,
   "id": "a4b8ffda",
   "metadata": {},
   "outputs": [],
   "source": [
    "a = ['1']\n",
    "st = ''\n",
    "k = 0\n",
    "for i in a:\n",
    "    if k < 5:\n",
    "        st = i\n",
    "        st += '0'\n",
    "        a.append(st)\n",
    "        st = i\n",
    "        st += '1'\n",
    "        a.append(st)\n",
    "        k +=1"
   ]
  },
  {
   "cell_type": "code",
   "execution_count": 122,
   "id": "73337c93",
   "metadata": {},
   "outputs": [
    {
     "data": {
      "text/plain": [
       "['1', '10', '11', '100', '101', '110', '111', '1000', '1001', '1010', '1011']"
      ]
     },
     "execution_count": 122,
     "metadata": {},
     "output_type": "execute_result"
    }
   ],
   "source": [
    "a"
   ]
  },
  {
   "cell_type": "code",
   "execution_count": 99,
   "id": "e9b19184",
   "metadata": {},
   "outputs": [
    {
     "data": {
      "text/plain": [
       "21"
      ]
     },
     "execution_count": 99,
     "metadata": {},
     "output_type": "execute_result"
    }
   ],
   "source": [
    "len(a)"
   ]
  },
  {
   "cell_type": "code",
   "execution_count": 155,
   "id": "887f03be",
   "metadata": {},
   "outputs": [],
   "source": [
    "from collections import deque\n",
    "def binary(k):\n",
    "    a = deque()\n",
    "    a.appendleft('1')\n",
    "    for i in range(k):\n",
    "        f = a[-1]\n",
    "        print(f)\n",
    "        a.appendleft(f+\"0\")  \n",
    "        a.appendleft(f+\"1\") \n",
    "        a.pop()\n"
   ]
  },
  {
   "cell_type": "code",
   "execution_count": 156,
   "id": "8f5e0cbd",
   "metadata": {},
   "outputs": [
    {
     "name": "stdout",
     "output_type": "stream",
     "text": [
      "1\n",
      "10\n",
      "11\n",
      "100\n",
      "101\n",
      "110\n",
      "111\n",
      "1000\n",
      "1001\n",
      "1010\n"
     ]
    }
   ],
   "source": [
    "binary(10)"
   ]
  },
  {
   "cell_type": "code",
   "execution_count": null,
   "id": "6f9883e9",
   "metadata": {},
   "outputs": [],
   "source": []
  },
  {
   "cell_type": "code",
   "execution_count": null,
   "id": "c8f0a667",
   "metadata": {},
   "outputs": [],
   "source": []
  }
 ],
 "metadata": {
  "kernelspec": {
   "display_name": "Python 3 (ipykernel)",
   "language": "python",
   "name": "python3"
  },
  "language_info": {
   "codemirror_mode": {
    "name": "ipython",
    "version": 3
   },
   "file_extension": ".py",
   "mimetype": "text/x-python",
   "name": "python",
   "nbconvert_exporter": "python",
   "pygments_lexer": "ipython3",
   "version": "3.9.13"
  }
 },
 "nbformat": 4,
 "nbformat_minor": 5
}

{
 "cells": [
  {
   "cell_type": "code",
   "execution_count": 1,
   "id": "7e7da21b",
   "metadata": {},
   "outputs": [],
   "source": [
    "import numpy as np"
   ]
  },
  {
   "cell_type": "markdown",
   "id": "f629fbfb",
   "metadata": {},
   "source": [
    "# Question 1"
   ]
  },
  {
   "cell_type": "markdown",
   "id": "2ea405ac",
   "metadata": {},
   "source": [
    "Let us say your expense for every month are listed below,\n",
    "January - 2200\n",
    "February - 2350\n",
    "March - 2600\n",
    "April - 2130\n",
    "May - 2190"
   ]
  },
  {
   "cell_type": "code",
   "execution_count": 10,
   "id": "3e0dbe74",
   "metadata": {},
   "outputs": [],
   "source": [
    "expense = {\"Jan\": 2200, \"Feb\": 2350, \"March\": 2600, \"April\": 2130, \"May\": 2190}"
   ]
  },
  {
   "cell_type": "markdown",
   "id": "ace91cb7",
   "metadata": {},
   "source": [
    "#1. In Feb, how many dollars you spent extra compare to January?"
   ]
  },
  {
   "cell_type": "code",
   "execution_count": 12,
   "id": "b76f7640",
   "metadata": {},
   "outputs": [
    {
     "name": "stdout",
     "output_type": "stream",
     "text": [
      "150\n"
     ]
    }
   ],
   "source": [
    "F_J = expense[\"Feb\"] - expense[\"Jan\"]\n",
    "print(F_J)"
   ]
  },
  {
   "cell_type": "markdown",
   "id": "cfbb4e83",
   "metadata": {},
   "source": [
    "2. Find out your total expense in first quarter (first three months) of the year."
   ]
  },
  {
   "cell_type": "code",
   "execution_count": 20,
   "id": "9351b066",
   "metadata": {},
   "outputs": [
    {
     "data": {
      "text/plain": [
       "7150"
      ]
     },
     "execution_count": 20,
     "metadata": {},
     "output_type": "execute_result"
    }
   ],
   "source": [
    "M_3 = expense[\"Jan\"] + expense[\"Feb\"] + expense[\"March\"]\n",
    "M_3"
   ]
  },
  {
   "cell_type": "markdown",
   "id": "d8e1c913",
   "metadata": {},
   "source": [
    "3. Find out if you spent exactly 2000 dollars in any month"
   ]
  },
  {
   "cell_type": "code",
   "execution_count": 32,
   "id": "e91b8a43",
   "metadata": {},
   "outputs": [
    {
     "name": "stdout",
     "output_type": "stream",
     "text": [
      "False\n",
      "False\n",
      "False\n",
      "False\n",
      "False\n"
     ]
    }
   ],
   "source": [
    "for i in expense.values():\n",
    "    if i == 2000:\n",
    "         print(\"True\")\n",
    "    else:\n",
    "        print(\"False\")"
   ]
  },
  {
   "cell_type": "markdown",
   "id": "7fc0f1f1",
   "metadata": {},
   "source": [
    "4. June month just finished and your expense is 1980 dollar. Add this item to our monthly expense list"
   ]
  },
  {
   "cell_type": "code",
   "execution_count": 34,
   "id": "0c573446",
   "metadata": {},
   "outputs": [
    {
     "data": {
      "text/plain": [
       "{'Jan': 2200,\n",
       " 'Feb': 2350,\n",
       " 'March': 2600,\n",
       " 'April': 2130,\n",
       " 'May': 2190,\n",
       " 'June': 1980}"
      ]
     },
     "execution_count": 34,
     "metadata": {},
     "output_type": "execute_result"
    }
   ],
   "source": [
    "expense[\"June\"] = 1980\n",
    "expense"
   ]
  },
  {
   "cell_type": "markdown",
   "id": "9fffc23d",
   "metadata": {},
   "source": [
    "5. You returned an item that you bought in a month of April and\n",
    "got a refund of 200$. Make a correction to your monthly expense list\n",
    "based on this"
   ]
  },
  {
   "cell_type": "code",
   "execution_count": 38,
   "id": "6948b182",
   "metadata": {},
   "outputs": [],
   "source": [
    "expense.update({\"April\": expense[\"April\"]-200})"
   ]
  },
  {
   "cell_type": "code",
   "execution_count": 39,
   "id": "60071a8e",
   "metadata": {},
   "outputs": [
    {
     "data": {
      "text/plain": [
       "{'Jan': 2200,\n",
       " 'Feb': 2350,\n",
       " 'March': 2600,\n",
       " 'April': 1730,\n",
       " 'May': 2190,\n",
       " 'June': 1980}"
      ]
     },
     "execution_count": 39,
     "metadata": {},
     "output_type": "execute_result"
    }
   ],
   "source": [
    "expense"
   ]
  },
  {
   "cell_type": "markdown",
   "id": "786716c0",
   "metadata": {},
   "source": [
    "# Question 2"
   ]
  },
  {
   "cell_type": "code",
   "execution_count": 57,
   "id": "71a19519",
   "metadata": {},
   "outputs": [],
   "source": [
    "heros=['spider man','thor','hulk','iron man','captain america']"
   ]
  },
  {
   "cell_type": "markdown",
   "id": "3e735cfa",
   "metadata": {},
   "source": [
    "1. Length of the list"
   ]
  },
  {
   "cell_type": "code",
   "execution_count": 58,
   "id": "4b4673fa",
   "metadata": {},
   "outputs": [
    {
     "name": "stdout",
     "output_type": "stream",
     "text": [
      "5\n"
     ]
    }
   ],
   "source": [
    "print(len(heros))"
   ]
  },
  {
   "cell_type": "markdown",
   "id": "23f55ec8",
   "metadata": {},
   "source": [
    "2. Add 'black panther' at the end of this list"
   ]
  },
  {
   "cell_type": "code",
   "execution_count": 59,
   "id": "64cc670a",
   "metadata": {},
   "outputs": [
    {
     "data": {
      "text/plain": [
       "['spider man', 'thor', 'hulk', 'iron man', 'captain america', 'black panther']"
      ]
     },
     "execution_count": 59,
     "metadata": {},
     "output_type": "execute_result"
    }
   ],
   "source": [
    "heros.append('black panther')\n",
    "heros"
   ]
  },
  {
   "cell_type": "markdown",
   "id": "309f1eef",
   "metadata": {},
   "source": [
    "3. You realize that you need to add 'black panther' after 'hulk',\n",
    "   so remove it from the list first and then add it after 'hulk'"
   ]
  },
  {
   "cell_type": "code",
   "execution_count": 60,
   "id": "3802e8e1",
   "metadata": {},
   "outputs": [
    {
     "data": {
      "text/plain": [
       "['spider man', 'thor', 'hulk', 'iron man', 'captain america']"
      ]
     },
     "execution_count": 60,
     "metadata": {},
     "output_type": "execute_result"
    }
   ],
   "source": [
    "heros.remove('black panther')\n",
    "heros"
   ]
  },
  {
   "cell_type": "code",
   "execution_count": 56,
   "id": "ef8cc3b5",
   "metadata": {},
   "outputs": [
    {
     "data": {
      "text/plain": [
       "[' ',\n",
       " 'a',\n",
       " 'black panther',\n",
       " 'black panther',\n",
       " 'c',\n",
       " 'captain america',\n",
       " 'd',\n",
       " 'doctor strange',\n",
       " 'e',\n",
       " 'g',\n",
       " 'iron man',\n",
       " 'n',\n",
       " 'o',\n",
       " 'o',\n",
       " 'r',\n",
       " 'r',\n",
       " 's',\n",
       " 'spider man',\n",
       " 't',\n",
       " 't']"
      ]
     },
     "execution_count": 56,
     "metadata": {},
     "output_type": "execute_result"
    }
   ],
   "source": [
    "heros.insert(3, 'black panther')\n",
    "heros"
   ]
  },
  {
   "cell_type": "markdown",
   "id": "f2180767",
   "metadata": {},
   "source": [
    "4. Now you don't like thor and hulk because they get angry easily :)\n",
    "   So you want to remove thor and hulk from list and replace them with doctor strange (because he is cool).\n",
    "   Do that with one line of code."
   ]
  },
  {
   "cell_type": "code",
   "execution_count": 66,
   "id": "4694b96f",
   "metadata": {},
   "outputs": [],
   "source": [
    "heros[1:3] = [ 'doctor strange']"
   ]
  },
  {
   "cell_type": "code",
   "execution_count": 67,
   "id": "a822065c",
   "metadata": {},
   "outputs": [
    {
     "data": {
      "text/plain": [
       "['captain america', 'doctor strange', 'spider man', 'thor']"
      ]
     },
     "execution_count": 67,
     "metadata": {},
     "output_type": "execute_result"
    }
   ],
   "source": [
    "heros"
   ]
  },
  {
   "cell_type": "markdown",
   "id": "7c0c807c",
   "metadata": {},
   "source": [
    "5. Sort the heros list in alphabetical order (Hint. Use dir() functions to list down all functions available in list)\n"
   ]
  },
  {
   "cell_type": "code",
   "execution_count": 61,
   "id": "a15cde39",
   "metadata": {},
   "outputs": [
    {
     "data": {
      "text/plain": [
       "['captain america', 'hulk', 'iron man', 'spider man', 'thor']"
      ]
     },
     "execution_count": 61,
     "metadata": {},
     "output_type": "execute_result"
    }
   ],
   "source": [
    "heros.sort()\n",
    "heros"
   ]
  },
  {
   "cell_type": "markdown",
   "id": "59256dba",
   "metadata": {},
   "source": [
    "# Question 3"
   ]
  },
  {
   "cell_type": "markdown",
   "id": "bac985db",
   "metadata": {},
   "source": [
    "Create a list of all odd numbers between 1 and a max number. Max number is something you need to take from a user using input() function"
   ]
  },
  {
   "cell_type": "code",
   "execution_count": 65,
   "id": "5549e7a5",
   "metadata": {},
   "outputs": [
    {
     "name": "stdout",
     "output_type": "stream",
     "text": [
      "Enter the max number20\n",
      "[1, 3, 5, 7, 9, 11, 13, 15, 17, 19]\n"
     ]
    }
   ],
   "source": [
    "max_num = int(input('Enter the max number'))\n",
    "odd = []\n",
    "for i in range(0,max_num):\n",
    "    if i%2 != 0:\n",
    "        odd.append(i)\n",
    "print(odd)"
   ]
  },
  {
   "cell_type": "code",
   "execution_count": null,
   "id": "709d210f",
   "metadata": {},
   "outputs": [],
   "source": []
  }
 ],
 "metadata": {
  "kernelspec": {
   "display_name": "Python 3 (ipykernel)",
   "language": "python",
   "name": "python3"
  },
  "language_info": {
   "codemirror_mode": {
    "name": "ipython",
    "version": 3
   },
   "file_extension": ".py",
   "mimetype": "text/x-python",
   "name": "python",
   "nbconvert_exporter": "python",
   "pygments_lexer": "ipython3",
   "version": "3.9.13"
  }
 },
 "nbformat": 4,
 "nbformat_minor": 5
}

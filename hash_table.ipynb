{
 "cells": [
  {
   "cell_type": "code",
   "execution_count": 24,
   "id": "0d62c7a8",
   "metadata": {},
   "outputs": [],
   "source": [
    "def get_hash(val):\n",
    "    sum_ = 0\n",
    "    for char in val:\n",
    "        sum_ += ord(char)\n",
    "    return sum_ % 100"
   ]
  },
  {
   "cell_type": "code",
   "execution_count": 26,
   "id": "3aa4ddb9",
   "metadata": {},
   "outputs": [
    {
     "data": {
      "text/plain": [
       "23"
      ]
     },
     "execution_count": 26,
     "metadata": {},
     "output_type": "execute_result"
    }
   ],
   "source": [
    "get_hash('march ')"
   ]
  },
  {
   "cell_type": "code",
   "execution_count": 44,
   "id": "b194afaa",
   "metadata": {},
   "outputs": [],
   "source": [
    "class hash_table:\n",
    "    def __init__(self):\n",
    "        self.max = 10\n",
    "        self.arr = [None for i in range(self.max)]\n",
    "    def get_hash(self, key):\n",
    "        sum_ = 0\n",
    "        for char in key:\n",
    "            sum_ += ord(char)\n",
    "        return sum_ % self.max\n",
    "    def __setitem__(self, key, val):\n",
    "        h = self.get_hash(key)\n",
    "        self.arr[h] = val\n",
    "    def __getitem__(self, key):\n",
    "        h = self.get_hash(key)\n",
    "        return self.arr[h]\n",
    "    def __delitem__(self, key):\n",
    "        h = self.get_hash(key)\n",
    "        self.arr[h] = None"
   ]
  },
  {
   "cell_type": "code",
   "execution_count": 45,
   "id": "949060de",
   "metadata": {},
   "outputs": [],
   "source": [
    "t = hash_table()\n",
    "t[\"March 12\"] = 345\n",
    "t[\"Mar2\"] = 123\n",
    "t[\"M\"] = 3456"
   ]
  },
  {
   "cell_type": "code",
   "execution_count": 46,
   "id": "b26a0da6",
   "metadata": {},
   "outputs": [
    {
     "data": {
      "text/plain": [
       "345"
      ]
     },
     "execution_count": 46,
     "metadata": {},
     "output_type": "execute_result"
    }
   ],
   "source": [
    "t[\"March 12\"]"
   ]
  },
  {
   "cell_type": "code",
   "execution_count": 47,
   "id": "401ecf5c",
   "metadata": {},
   "outputs": [],
   "source": [
    "del t[\"Mar2\"]"
   ]
  },
  {
   "cell_type": "code",
   "execution_count": 48,
   "id": "2202e0fb",
   "metadata": {},
   "outputs": [
    {
     "data": {
      "text/plain": [
       "[None, None, 345, None, None, None, None, 3456, None, None]"
      ]
     },
     "execution_count": 48,
     "metadata": {},
     "output_type": "execute_result"
    }
   ],
   "source": [
    "t.arr"
   ]
  },
  {
   "cell_type": "markdown",
   "id": "8867ee9d",
   "metadata": {},
   "source": [
    "# Collision "
   ]
  },
  {
   "cell_type": "code",
   "execution_count": 97,
   "id": "71a7ef49",
   "metadata": {},
   "outputs": [],
   "source": [
    "class hash_table:\n",
    "    def __init__(self):\n",
    "        self.max = 10\n",
    "        self.arr = [[] for i in range(self.max)]\n",
    "    def get_hash(self, key):\n",
    "        sum_ = 0\n",
    "        for char in key:\n",
    "            sum_ += ord(char)\n",
    "        return sum_ % self.max\n",
    "    def __setitem__(self, key, val):\n",
    "        h = self.get_hash(key)\n",
    "        found = False\n",
    "        for  idx , element in enumerate(self.arr[h]):\n",
    "            if len(element) == 2 and element[0] == key:\n",
    "                self.arr[h][idx] = (key, val)\n",
    "                found = True\n",
    "                break\n",
    "        if not found:\n",
    "            self.arr[h].append((key, val))\n",
    "    def __getitem__(self, key):\n",
    "        h = self.get_hash(key)\n",
    "        for idx, element in enumerate(self.arr[h]):\n",
    "            if element[0] == key:\n",
    "                return self.arr[h][idx]\n",
    "        self.arr[h][key]\n",
    "        \n",
    "    def __delitem__(self, key):\n",
    "        h = self.get_hash(key)\n",
    "        for idx, element in enumerate(self.arr[h]):\n",
    "            if element[0] == key:\n",
    "                del self.arr[h][idx]\n",
    "                break\n",
    "            del self.arr[h][idx]"
   ]
  },
  {
   "cell_type": "code",
   "execution_count": 98,
   "id": "603308be",
   "metadata": {},
   "outputs": [],
   "source": [
    "t = hash_table()"
   ]
  },
  {
   "cell_type": "code",
   "execution_count": 99,
   "id": "07f7e1c0",
   "metadata": {},
   "outputs": [
    {
     "data": {
      "text/plain": [
       "[[],\n",
       " [],\n",
       " [],\n",
       " [],\n",
       " [],\n",
       " [],\n",
       " [],\n",
       " [('March 6', 12), ('March 17', 34)],\n",
       " [('Mar', 130)],\n",
       " []]"
      ]
     },
     "execution_count": 99,
     "metadata": {},
     "output_type": "execute_result"
    }
   ],
   "source": [
    "t[\"March 6\"] = 12\n",
    "t[\"March 17\"] = 34\n",
    "t[\"Mar\"] = 130\n",
    "t.arr"
   ]
  },
  {
   "cell_type": "code",
   "execution_count": 100,
   "id": "faa64cc5",
   "metadata": {},
   "outputs": [
    {
     "data": {
      "text/plain": [
       "('Mar', 130)"
      ]
     },
     "execution_count": 100,
     "metadata": {},
     "output_type": "execute_result"
    }
   ],
   "source": [
    "t['Mar']"
   ]
  },
  {
   "cell_type": "code",
   "execution_count": 96,
   "id": "4f483faf",
   "metadata": {},
   "outputs": [
    {
     "data": {
      "text/plain": [
       "('March 17', 34)"
      ]
     },
     "execution_count": 96,
     "metadata": {},
     "output_type": "execute_result"
    }
   ],
   "source": [
    "t[\"March 17\"]"
   ]
  },
  {
   "cell_type": "code",
   "execution_count": 101,
   "id": "9743d801",
   "metadata": {},
   "outputs": [],
   "source": [
    "del t[\"Mar\"]"
   ]
  },
  {
   "cell_type": "code",
   "execution_count": 102,
   "id": "cd598afc",
   "metadata": {},
   "outputs": [
    {
     "data": {
      "text/plain": [
       "[[], [], [], [], [], [], [], [('March 6', 12), ('March 17', 34)], [], []]"
      ]
     },
     "execution_count": 102,
     "metadata": {},
     "output_type": "execute_result"
    }
   ],
   "source": [
    "t.arr"
   ]
  },
  {
   "cell_type": "code",
   "execution_count": null,
   "id": "554dd5ba",
   "metadata": {},
   "outputs": [],
   "source": []
  }
 ],
 "metadata": {
  "kernelspec": {
   "display_name": "Python 3 (ipykernel)",
   "language": "python",
   "name": "python3"
  },
  "language_info": {
   "codemirror_mode": {
    "name": "ipython",
    "version": 3
   },
   "file_extension": ".py",
   "mimetype": "text/x-python",
   "name": "python",
   "nbconvert_exporter": "python",
   "pygments_lexer": "ipython3",
   "version": "3.9.13"
  }
 },
 "nbformat": 4,
 "nbformat_minor": 5
}

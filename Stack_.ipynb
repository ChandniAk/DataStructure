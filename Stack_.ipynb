{
 "cells": [
  {
   "cell_type": "markdown",
   "id": "50f8a365",
   "metadata": {},
   "source": [
    "Write a function in python that can reverse a string using stack data structure. Use Stack class from the tutorial.\n",
    "reverse_string(\"We will conquere COVID-19\") should return \"91-DIVOC ereuqnoc lliw eW\""
   ]
  },
  {
   "cell_type": "code",
   "execution_count": 2,
   "id": "38fbfa1e",
   "metadata": {},
   "outputs": [],
   "source": [
    "from collections import deque \n",
    "\n",
    "    "
   ]
  },
  {
   "cell_type": "code",
   "execution_count": 53,
   "id": "a394fce1",
   "metadata": {},
   "outputs": [],
   "source": [
    "class Stack:\n",
    "    def __init__(self):\n",
    "        self.container = deque()\n",
    "    def pop(self):\n",
    "        return self.container.pop()\n",
    "    def push(self, value):\n",
    "        return self.container.append(value)\n",
    "    def peek(self):\n",
    "        return self.container[-1]\n",
    "    def isempty(self):\n",
    "        return len(self.container) == 0\n",
    "    def size(self):\n",
    "        return len(self.container)\n",
    "    def Print(self):\n",
    "        return print(self.container)\n",
    "    def print_back(self):\n",
    "        f = ''\n",
    "        for i in range(0,self.size()):\n",
    "            f += self.pop()\n",
    "        return print(f)"
   ]
  },
  {
   "cell_type": "code",
   "execution_count": 54,
   "id": "cc6559e7",
   "metadata": {},
   "outputs": [
    {
     "name": "stdout",
     "output_type": "stream",
     "text": [
      "deque(['W', 'e', ' ', 'w', 'i', 'l', 'l', ' ', 'c', 'o', 'n', 'q', 'u', 'e', 'r', 'e', ' ', 'C', 'O', 'V', 'I', 'D', '-', '1', '9'])\n",
      "91-DIVOC ereuqnoc lliw eW\n"
     ]
    }
   ],
   "source": [
    "s = Stack()\n",
    "d = \"We will conquere COVID-19\"\n",
    "for char in d:\n",
    "    s.push(char)\n",
    "s.size()\n",
    "s.Print()\n",
    "s.peek()\n",
    "\n",
    "s.isempty()\n",
    "s.print_back()"
   ]
  },
  {
   "cell_type": "markdown",
   "id": "9ff73cc3",
   "metadata": {},
   "source": [
    "Write a function in python that checks if paranthesis in the string are balanced or not. \n",
    "\n",
    "Possible parantheses are \"{}',\"()\" or \"[]\". Use Stack class from the tutorial.\n",
    "is_balanced(\"({a+b})\")     --> True\n",
    "is_balanced(\"))((a+b}{\")   --> False\n",
    "is_balanced(\"((a+b))\")     --> True\n",
    "is_balanced(\"))\")          --> False\n",
    "is_balanced(\"[a+b]*(x+2y)*{gg+kk}\") --> True"
   ]
  },
  {
   "cell_type": "code",
   "execution_count": 64,
   "id": "4e2e5144",
   "metadata": {},
   "outputs": [],
   "source": [
    "class Stack:\n",
    "    def __init__(self):\n",
    "        self.container = deque()\n",
    "    def pop(self):\n",
    "        return self.container.pop()\n",
    "    def push(self, value):\n",
    "        return self.container.append(value)\n",
    "    def peek(self):\n",
    "        return self.container[-1]\n",
    "    def isempty(self):\n",
    "        return len(self.container) == 0\n",
    "    def size(self):\n",
    "        return len(self.container)\n",
    "    def Print(self):\n",
    "        return print(self.container)\n",
    "    def check_balance(self, d):\n",
    "        s = Stack()\n",
    "        f = ''\n",
    "        for char in d:\n",
    "            if char == '}' and \"{\" not in f:\n",
    "                return False\n",
    "            elif char == ')' and \"(\" not in f:\n",
    "                return False\n",
    "            elif char == ']' and \"[\" not in f:\n",
    "                return False\n",
    "            else:\n",
    "                return True\n",
    "        "
   ]
  },
  {
   "cell_type": "code",
   "execution_count": 62,
   "id": "73a7deb1",
   "metadata": {},
   "outputs": [
    {
     "data": {
      "text/plain": [
       "True"
      ]
     },
     "execution_count": 62,
     "metadata": {},
     "output_type": "execute_result"
    }
   ],
   "source": [
    "s = Stack()\n",
    "e ='((a+b))'\n",
    "s.check_balance(e)"
   ]
  },
  {
   "cell_type": "code",
   "execution_count": 63,
   "id": "0c254ebc",
   "metadata": {},
   "outputs": [
    {
     "data": {
      "text/plain": [
       "False"
      ]
     },
     "execution_count": 63,
     "metadata": {},
     "output_type": "execute_result"
    }
   ],
   "source": [
    "s = Stack()\n",
    "e ='))'\n",
    "s.check_balance(e)"
   ]
  },
  {
   "cell_type": "code",
   "execution_count": 65,
   "id": "74b88703",
   "metadata": {},
   "outputs": [
    {
     "data": {
      "text/plain": [
       "True"
      ]
     },
     "execution_count": 65,
     "metadata": {},
     "output_type": "execute_result"
    }
   ],
   "source": [
    "e ='[a+b]*(x+2y)*{gg+kk}'\n",
    "s.check_balance(e)"
   ]
  },
  {
   "cell_type": "code",
   "execution_count": null,
   "id": "079091de",
   "metadata": {},
   "outputs": [],
   "source": []
  }
 ],
 "metadata": {
  "kernelspec": {
   "display_name": "Python 3 (ipykernel)",
   "language": "python",
   "name": "python3"
  },
  "language_info": {
   "codemirror_mode": {
    "name": "ipython",
    "version": 3
   },
   "file_extension": ".py",
   "mimetype": "text/x-python",
   "name": "python",
   "nbconvert_exporter": "python",
   "pygments_lexer": "ipython3",
   "version": "3.9.13"
  }
 },
 "nbformat": 4,
 "nbformat_minor": 5
}
